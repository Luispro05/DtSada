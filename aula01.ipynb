{
 "cells": [
  {
   "cell_type": "code",
   "execution_count": 1,
   "id": "3c1309a1-1de8-4cf6-ab77-627381522ee8",
   "metadata": {},
   "outputs": [
    {
     "name": "stdout",
     "output_type": "stream",
     "text": [
      "3\n"
     ]
    }
   ],
   "source": [
    "a = 11\n",
    "b = 4 \n",
    "print(a%b)"
   ]
  },
  {
   "cell_type": "code",
   "execution_count": 2,
   "id": "e0f81d1f-1f2b-4f0c-b951-d0859208cf42",
   "metadata": {},
   "outputs": [
    {
     "name": "stdout",
     "output_type": "stream",
     "text": [
      "3.0\n"
     ]
    }
   ],
   "source": [
    "print((3 + 6*2)/5)"
   ]
  },
  {
   "cell_type": "code",
   "execution_count": 3,
   "id": "dda1203b-7f23-481d-86c5-7b7adc98e4de",
   "metadata": {
    "scrolled": true
   },
   "outputs": [
    {
     "name": "stdout",
     "output_type": "stream",
     "text": [
      "list[slice(3, None, -1)]\n"
     ]
    }
   ],
   "source": [
    "lista = list(range(10))\n",
    "print(list[3::-1])"
   ]
  },
  {
   "cell_type": "code",
   "execution_count": 10,
   "id": "52ed1fcb-bca8-4a0f-8cc0-894ad31a9d63",
   "metadata": {},
   "outputs": [],
   "source": [
    "arquivo = open(\"Ola_mundo.txt\", \"w\", encoding=\"utf-8\")"
   ]
  },
  {
   "cell_type": "code",
   "execution_count": 12,
   "id": "46da414b-7866-4243-af9d-ac277e511e2f",
   "metadata": {},
   "outputs": [
    {
     "data": {
      "text/plain": [
       "<_io.TextIOWrapper name='Ola_mundo.txt' mode='w' encoding='utf-8'>"
      ]
     },
     "execution_count": 12,
     "metadata": {},
     "output_type": "execute_result"
    }
   ],
   "source": [
    "arquivo"
   ]
  },
  {
   "cell_type": "code",
   "execution_count": 14,
   "id": "31bfd519-d94a-49f9-a47a-391b9280abbb",
   "metadata": {},
   "outputs": [],
   "source": [
    "import csv"
   ]
  },
  {
   "cell_type": "code",
   "execution_count": null,
   "id": "d10f33a2-3cea-486a-b98f-213b663d4b82",
   "metadata": {},
   "outputs": [],
   "source": []
  }
 ],
 "metadata": {
  "kernelspec": {
   "display_name": "Python [conda env:base] *",
   "language": "python",
   "name": "conda-base-py"
  },
  "language_info": {
   "codemirror_mode": {
    "name": "ipython",
    "version": 3
   },
   "file_extension": ".py",
   "mimetype": "text/x-python",
   "name": "python",
   "nbconvert_exporter": "python",
   "pygments_lexer": "ipython3",
   "version": "3.12.7"
  }
 },
 "nbformat": 4,
 "nbformat_minor": 5
}
