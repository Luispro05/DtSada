{
 "cells": [
  {
   "cell_type": "code",
   "execution_count": 1,
   "id": "3c1309a1-1de8-4cf6-ab77-627381522ee8",
   "metadata": {},
   "outputs": [
    {
     "name": "stdout",
     "output_type": "stream",
     "text": [
      "3\n"
     ]
    }
   ],
   "source": [
    "a = 11\n",
    "b = 4 \n",
    "print(a%b)"
   ]
  },
  {
   "cell_type": "code",
   "execution_count": 2,
   "id": "e0f81d1f-1f2b-4f0c-b951-d0859208cf42",
   "metadata": {},
   "outputs": [
    {
     "name": "stdout",
     "output_type": "stream",
     "text": [
      "3.0\n"
     ]
    }
   ],
   "source": [
    "print((3 + 6*2)/5)"
   ]
  },
  {
   "cell_type": "code",
   "execution_count": 3,
   "id": "dda1203b-7f23-481d-86c5-7b7adc98e4de",
   "metadata": {},
   "outputs": [
    {
     "name": "stdout",
     "output_type": "stream",
     "text": [
      "list[slice(3, None, -1)]\n"
     ]
    }
   ],
   "source": [
    "lista = list(range(10))\n",
    "print(list[3::-1])"
   ]
  },
  {
   "cell_type": "code",
   "execution_count": null,
   "id": "ed0da127-c661-49a4-a81c-690dafce92fa",
   "metadata": {},
   "outputs": [],
   "source": []
  }
 ],
 "metadata": {
  "kernelspec": {
   "display_name": "Python 3 (ipykernel)",
   "language": "python",
   "name": "python3"
  },
  "language_info": {
   "codemirror_mode": {
    "name": "ipython",
    "version": 3
   },
   "file_extension": ".py",
   "mimetype": "text/x-python",
   "name": "python",
   "nbconvert_exporter": "python",
   "pygments_lexer": "ipython3",
   "version": "3.12.7"
  }
 },
 "nbformat": 4,
 "nbformat_minor": 5
}
